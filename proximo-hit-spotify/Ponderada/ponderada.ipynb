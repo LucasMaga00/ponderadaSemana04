{
 "cells": [
  {
   "cell_type": "markdown",
   "metadata": {},
   "source": [
    "Primeiro, vamos realizar a importação de todas as bibliotecas que usaremos."
   ]
  },
  {
   "cell_type": "code",
   "execution_count": 1,
   "metadata": {},
   "outputs": [],
   "source": [
    "import pandas as pd\n",
    "import matplotlib.pyplot as plt\n",
    "import seaborn as sns\n",
    "import numpy as np\n",
    "from sklearn.preprocessing import StandardScaler\n",
    "from sklearn.model_selection import KFold, train_test_split, RandomizedSearchCV, GridSearchCV\n",
    "from sklearn.metrics import accuracy_score, precision_score, recall_score, f1_score, classification_report\n",
    "from sklearn.ensemble import RandomForestClassifier\n",
    "from sklearn.linear_model import LogisticRegression\n",
    "from sklearn.naive_bayes import BernoulliNB\n",
    "from sklearn.tree import DecisionTreeClassifier\n",
    "from sklearn.neighbors import KNeighborsClassifier"
   ]
  },
  {
   "cell_type": "markdown",
   "metadata": {},
   "source": [
    "Agora, vamos importar nossos dados."
   ]
  },
  {
   "cell_type": "code",
   "execution_count": 2,
   "metadata": {},
   "outputs": [],
   "source": [
    "df_test = pd.read_csv('../test.csv')\n",
    "df = pd.read_csv('../train.csv')"
   ]
  },
  {
   "cell_type": "code",
   "execution_count": 3,
   "metadata": {},
   "outputs": [],
   "source": [
    "pd.set_option('display.max_columns', None) # Configuracao para mostrar todas as colunas"
   ]
  },
  {
   "cell_type": "markdown",
   "metadata": {},
   "source": [
    "## Entendendo o significado de todas as colunas"
   ]
  },
  {
   "cell_type": "markdown",
   "metadata": {},
   "source": [
    "É de extrema importância entender todas as colunas, por isso, vamos copiar e colar o significado delas:"
   ]
  },
  {
   "cell_type": "markdown",
   "metadata": {},
   "source": [
    "- track_id: O ID único de cada música\n",
    "    \n",
    "- artists: Nome dos(as) artistas que performaram a música, separados por ';'\n",
    "    \n",
    "- album_name: Nome do álbum no qual aparece a música\n",
    "    \n",
    "- track_name: Nome da música\n",
    "    \n",
    "- duration_ms: A duração da música em milissegundos\n",
    "    \n",
    "- explicit: Boolean indicando se a música possui conteúdo explícito\n",
    "    \n",
    "- danceability: Descreve quanto uma música é \"dançante\" (0.0 = menos dançante, 1.0 = mais dançante)\n",
    "    \n",
    "- energy: Representa a intensidade e atividade de uma música (0.0 = baixa energia, 1.0 = alta energia)\n",
    "    \n",
    "- key: A tonalidade musical da faixa mapeada usando a notação padrão de Classe de Altura (12 notas musicais)\n",
    "    \n",
    "- loudness: Nível geral de volume da faixa em decibéis (dB)\n",
    "    \n",
    "- mode: Indica a modalidade (maior ou menor) da faixa\n",
    "    \n",
    "- speechiness: Detecta a presença de palavras faladas na faixa\n",
    "    \n",
    "- acousticness: Medida de confiança sobre se a faixa é acústica (0,0 = não acústica, 1,0 = altamente acústica)\n",
    "    \n",
    "- instrumentalness: Prediz se uma faixa contém vocais (0,0 = contém vocais, 1,0 = instrumental)\n",
    "    \n",
    "- liveness: Detecta a presença de uma audiência na gravação (0,0 = gravação em estúdio, 1,0 = performance ao vivo)\n",
    "    \n",
    "- valence: Mede a positividade musical transmitida por uma faixa (0,0 = negativa, 1,0 = positiva)\n",
    "    \n",
    "- tempo: Tempo estimado da faixa em batidas por minuto (BPM)\n",
    "    \n",
    "- time_signature: Assinatura de tempo estimada da faixa (de 3 a 7)\n",
    "    \n",
    "- track_genre: O gênero da música\n",
    "    \n",
    "- popularity_target: Boolean indicando se a música é popular ou não"
   ]
  },
  {
   "cell_type": "markdown",
   "metadata": {},
   "source": [
    "Realizando a análise das colunas, fiquei em dúvida sobre a diferença entre a coluna 'tempo' e 'time_signature'. Por isso, realizei uma análise mais profunda no significado delas:"
   ]
  },
  {
   "cell_type": "markdown",
   "metadata": {},
   "source": [
    "* tempo (Batidas por minuto):\n",
    "   * O tempo representa a velocidade ou ritmo de uma faixa, medido em batidas por minuto (BPM).\n",
    "   * O tempo médio é de cerca de 122 BPM, o que representa um ritmo moderado e enérgico.\n",
    "   * O tempo mínimo é 0 BPM (o que pode indicar dados ausentes ou faixas muito lentas), e o máximo é cerca de 223 BPM (muito rápido).\n",
    "\n",
    "* time_signature (Fórmula de compasso):\n",
    "   * A fórmula de compasso representa a estrutura rítmica de uma faixa, indicando quantas batidas existem em cada compasso e qual valor de nota representa uma batida.\n",
    "   * Os valores geralmente variam de 3 a 7, sendo 4 o mais comum (representando o compasso 4/4, que é padrão em muitos gêneros).\n",
    "   * A partir das estatísticas, podemos ver que a mediana e os percentis 25 e 75 são 4, confirmando que o compasso 4/4 é realmente o mais comum.\n",
    "   * O mínimo de 0 pode indicar dados ausentes ou fórmulas de compasso não convencionais."
   ]
  },
  {
   "cell_type": "markdown",
   "metadata": {},
   "source": [
    "Primeiro dou uma olhada por cima dos dados apenas para entender quais colunas são númericas e categóricas. Também tenho a intenção de ver elas como dados reais e por isso chamo o comando `df.head(3)`"
   ]
  },
  {
   "cell_type": "code",
   "execution_count": null,
   "metadata": {},
   "outputs": [],
   "source": [
    "df.head(3)"
   ]
  },
  {
   "cell_type": "code",
   "execution_count": null,
   "metadata": {},
   "outputs": [],
   "source": [
    "df.info()"
   ]
  },
  {
   "cell_type": "markdown",
   "metadata": {},
   "source": [
    "Agora partindo para uma análise mais profunda das colunas numéricas, começo com uma análise da estatística descritiva de cada coluna."
   ]
  },
  {
   "cell_type": "code",
   "execution_count": null,
   "metadata": {},
   "outputs": [],
   "source": [
    "df.describe()"
   ]
  },
  {
   "cell_type": "markdown",
   "metadata": {},
   "source": [
    "Com o output acima, já é possível observar que valores iguais a 0 em 'tempo' e 'time_signature' provavelmente são missing values. Chegamos a essa conclusão porque músicas com 0 BPM não existem, mesmo muito lentas. E 'time_sigture' já comenta na definição das colunas que os valores vão de 3 a 7, ou seja, 0 é incorreto. Não realizamos a correção desses valores faltantes nesse exato momento, mas em breve voltaremos com eles."
   ]
  },
  {
   "cell_type": "markdown",
   "metadata": {},
   "source": [
    "## Exploração e Visualização dos Dados"
   ]
  },
  {
   "cell_type": "markdown",
   "metadata": {},
   "source": [
    "Agora, na intenção de entender os dados e descobrir padrões, vamos realizar uma exploração e visualização dos dados! Para isso, vamos utilizar bibliotecas como Matplot e Seaborn. Nossa missão aqui é descobrir padrões, correlações e tendências nos dados. Vamos usar visualizações eficazes para comunicar os insights e justificar nossas futuras escolhas de features e modelos."
   ]
  },
  {
   "cell_type": "code",
   "execution_count": 7,
   "metadata": {},
   "outputs": [],
   "source": [
    "# Definindo um estilo para nossos graficos e alterando o tamanho padrão das figuras geradas pelo Matplotlib\n",
    "sns.set_style(\"whitegrid\")\n",
    "plt.rcParams['figure.figsize'] = (12, 6)"
   ]
  },
  {
   "cell_type": "markdown",
   "metadata": {},
   "source": [
    "Para o começo da nossa análise, é importante saber a quantidade de músicas que são populares ou não e saber como está a distribuição entre elas. No gráfico gerado a seguir, é possível observar que existe uma divisão bem harmoniosa entre músicas populares e não populares."
   ]
  },
  {
   "cell_type": "code",
   "execution_count": null,
   "metadata": {},
   "outputs": [],
   "source": [
    "plt.figure(figsize=(10, 6))\n",
    "sns.countplot(x='popularity_target', data=df)\n",
    "plt.title('Distribution of Song Popularity')\n",
    "plt.xlabel('Popularity (0: Not Popular, 1: Popular)')\n",
    "plt.ylabel('Count')\n",
    "plt.show()"
   ]
  },
  {
   "cell_type": "markdown",
   "metadata": {},
   "source": [
    "Partindo com nossa análise, vamos agora observar nossas variáveis numéricas e a relação entre elas. O Heatmap é um gráfico perfeito para isso que demonstra as relações entre as colunas. Resumindo bastante funciona da forma a seguir: \n",
    "\n",
    "Os valores de correlação variam de -1 a 1:\n",
    "\n",
    "- **+1**: Correlação positiva perfeita. À medida que uma variável aumenta, a outra também aumenta.\n",
    "- **-1**: Correlação negativa perfeita. À medida que uma variável aumenta, a outra diminui.\n",
    "- **0**: Nenhuma correlação. As duas variáveis não afetam uma à outra."
   ]
  },
  {
   "cell_type": "code",
   "execution_count": null,
   "metadata": {},
   "outputs": [],
   "source": [
    "numerical_features = ['duration_ms', 'danceability', 'energy', 'key', 'loudness', 'speechiness', \n",
    "                      'acousticness', 'instrumentalness', 'liveness', 'valence', 'tempo']\n",
    "plt.figure(figsize=(12, 10))\n",
    "sns.heatmap(df[numerical_features].corr(), annot=True, cmap='coolwarm', linewidths=0.5)\n",
    "plt.title('Correlation Heatmap of Numerical Features')\n",
    "plt.show()"
   ]
  },
  {
   "cell_type": "markdown",
   "metadata": {},
   "source": [
    "Realizando a análise do Heatmap acima, é possível identificar alguns padrões importantes sobre nossa base de dados.\n",
    "\n",
    "1. Correlação forte entre 'energy' e 'loudness': Existe uma correlação positiva forte (0.76) entre 'energy' e 'loudness', indicando que músicas mais enérgicas tendem a ser mais altas.\n",
    "\n",
    "2. Correlação negativa entre 'acousticness' e 'energy': Há uma forte correlação negativa (-0.73) entre 'acousticness' e 'energy', sugerindo que músicas mais acústicas tendem a ser menos enérgicas.\n",
    "\n",
    "3. Correlação negativa entre 'acousticness' e 'loudness': Similarmente, existe uma correlação negativa moderada (-0.59) entre 'acousticness' e 'loudness', indicando que músicas acústicas tendem a ser menos altas.\n",
    "\n",
    "4. Correlação positiva entre 'danceability' e 'valence': Há uma correlação positiva moderada (0.48) entre 'danceability' e 'valence', sugerindo que músicas mais dançantes tendem a ter um tom emocional mais positivo.\n",
    "\n",
    "5. Correlação negativa entre 'instrumentalness' e 'loudness': Observa-se uma correlação negativa moderada (-0.43) entre 'instrumentalness' e 'loudness', indicando que músicas mais instrumentais tendem a ser menos altas.\n",
    "\n",
    "6. Pouca correlação com 'duration_ms': A 'duration_ms' tem correlações fracas com a maioria das outras características, sugerindo que o comprimento da música não está fortemente relacionado com suas outras propriedades acústicas.\n",
    "\n",
    "7. Correlações fracas com 'key': A 'key' tem correlações muito fracas com outras características, indicando que não há uma relação forte entre a tonalidade e outros aspectos musicais neste conjunto de dados.\n",
    "\n",
    "8. Correlações moderadas com 'valence': A 'valence' tem correlações moderadas positivas com 'danceability' (0.48) e 'energy' (0.26), sugerindo que músicas mais positivas tendem a ser mais dançantes e enérgicas.\n",
    "\n",
    "9. Pouca correlação entre 'tempo' e outras características: O 'tempo' da música tem correlações relativamente fracas com outras características, com a mais forte sendo com 'energy' (0.24).\n",
    "\n",
    "10. Correlação fraca entre 'speechiness' e outras características: 'Speechiness' tem correlações geralmente fracas com outras características, com a mais notável sendo com 'liveness' (0.21).\n",
    "\n",
    "11. 'Liveness' tem correlações fracas: A característica 'liveness' não mostra correlações fortes com nenhuma outra característica, sugerindo que é relativamente independente das outras propriedades musicais.\n",
    "\n",
    "Saber desses padrão será importante para quando começarmos a selecionar as features para o treinamento do nosso modelo! Porque aqui é possível observar que alguns colunas estão extremamente ligadas com outras."
   ]
  },
  {
   "cell_type": "markdown",
   "metadata": {},
   "source": [
    "Agora, queremos entender como diferentes características musicais se relacionam com a popularidade das músicas. Por isso, vamos criar alguns gráficos para realizar essa visualização.\n",
    "\n",
    "Com essa análise, vamos identificar quais características musicais têm maior influência na popularidade de uma música."
   ]
  },
  {
   "cell_type": "code",
   "execution_count": null,
   "metadata": {},
   "outputs": [],
   "source": [
    "fig, axes = plt.subplots(2, 3, figsize=(18, 12))\n",
    "features = ['danceability', 'energy', 'loudness', 'speechiness', 'acousticness', 'instrumentalness']\n",
    "for i, feature in enumerate(features):\n",
    "    sns.boxplot(x='popularity_target', y=feature, data=df, ax=axes[i//3][i%3])\n",
    "    axes[i//3][i%3].set_title(f'{feature.capitalize()} by Popularity')\n",
    "plt.tight_layout()\n",
    "plt.show()"
   ]
  },
  {
   "cell_type": "markdown",
   "metadata": {},
   "source": [
    "Observando o gráfico acima, conseguimos ter alguns insights.\n",
    "\n",
    "1. Danceability (Dançabilidade):\n",
    "\n",
    "Há uma ligeira tendência de músicas populares (1) terem maior dançabilidade.\n",
    "A diferença é pequena, mas notável, o que sugere que músicas mais dançantes têm uma probabilidade um pouco maior de serem populares.\n",
    "\n",
    "2.Instrumentalness (Instrumentalidade):\n",
    "\n",
    "Músicas populares tendem a ter menor instrumentalidade.\n",
    "Isso sugere que músicas com vocais são geralmente mais populares do que músicas puramente instrumentais."
   ]
  },
  {
   "cell_type": "markdown",
   "metadata": {},
   "source": [
    "Agora, para entender quais gêneros proporcionam mais sucessos às músicas, vamos criar um gráfico para visualizar os 10 melhores gêneros em termos de músicas populares."
   ]
  },
  {
   "cell_type": "code",
   "execution_count": null,
   "metadata": {},
   "outputs": [],
   "source": [
    "top_genres = df['track_genre'].value_counts().nlargest(10)\n",
    "plt.figure(figsize=(12, 6))\n",
    "sns.barplot(x=top_genres.index, y=top_genres.values)\n",
    "plt.title('Top 10 Genres by Count')\n",
    "plt.xticks(rotation=45, ha='right')\n",
    "plt.show()"
   ]
  },
  {
   "cell_type": "code",
   "execution_count": null,
   "metadata": {},
   "outputs": [],
   "source": [
    "plt.figure(figsize=(10, 8))\n",
    "sns.scatterplot(data=df, x='energy', y='danceability', hue='popularity_target', palette='viridis')\n",
    "plt.title('Energy vs. Danceability (Colored by Popularity)')\n",
    "plt.show()"
   ]
  },
  {
   "cell_type": "markdown",
   "metadata": {},
   "source": [
    "Análisando o gráfico acima, podemos observar que a popularidade não parece ser exclusivamente determinada por altos níveis de energia e dançabilidade, já que músicas populares existem em diversos níveis de energia e dançabilidade, sugerindo que outros fatores também influenciam a popularidade."
   ]
  },
  {
   "cell_type": "code",
   "execution_count": null,
   "metadata": {},
   "outputs": [],
   "source": [
    "plt.figure(figsize=(12, 6))\n",
    "sns.histplot(data=df, x='duration_ms', bins=50, kde=True)\n",
    "plt.title('Distribution of Song Durations')\n",
    "plt.xlabel('Duration (ms)')\n",
    "plt.show()"
   ]
  },
  {
   "cell_type": "markdown",
   "metadata": {},
   "source": [
    "Observando a duração das músicas, podemos observar que há uma concentração muito alta de músicas com duração menor. Também observamos que existem músicas com durações extremamente longas. Estes podem ser álbuns inteiros, performances ao vivo, ou erros nos dados.\n",
    "\n",
    "- A assimetria da distribuição pode afetar análises estatísticas, sendo necessário considerar transformações ou métodos robustos. Em breve voltaremos nesse tópico ao tratar os dados."
   ]
  },
  {
   "cell_type": "markdown",
   "metadata": {},
   "source": [
    "Já o gráfico de barras empilhadas abaixo apresenta uma comparação visual da proporção de conteúdo explícito entre músicas populares e não populares "
   ]
  },
  {
   "cell_type": "code",
   "execution_count": null,
   "metadata": {},
   "outputs": [],
   "source": [
    "explicit_by_popularity = df.groupby('popularity_target')['explicit'].value_counts(normalize=True).unstack()\n",
    "explicit_by_popularity.plot(kind='bar', stacked=True)\n",
    "plt.title('Proportion of Explicit Content by Popularity')\n",
    "plt.xlabel('Popularity')\n",
    "plt.ylabel('Proportion')\n",
    "plt.legend(title='Explicit', loc='center left', bbox_to_anchor=(1, 0.5))\n",
    "plt.tight_layout()\n",
    "plt.show()"
   ]
  },
  {
   "cell_type": "markdown",
   "metadata": {},
   "source": [
    "Observando o gráfico acima, podemos observar que:\n",
    "\n",
    "1. A maioria das músicas, tanto populares quanto não populares, não contém conteúdo explícito.\n",
    "2. Há uma ligeira tendência de músicas populares terem uma proporção um pouco maior de conteúdo explícito em comparação com as não populares.\n",
    "3. A presença de conteúdo explícito não parece ser um fator determinante para a popularidade de uma música, dada a pequena diferença observada."
   ]
  },
  {
   "cell_type": "markdown",
   "metadata": {},
   "source": [
    "Agora para fechar nossa análise, vamos comparar a distribuição da duração das músicas entre as categorias de popularidade."
   ]
  },
  {
   "cell_type": "code",
   "execution_count": null,
   "metadata": {},
   "outputs": [],
   "source": [
    "plt.figure(figsize=(12, 6))\n",
    "sns.boxenplot(x='popularity_target', y='duration_ms', data=df)\n",
    "plt.title('Song Duration Distribution by Popularity')\n",
    "plt.xlabel('Popularity (0: Not Popular, 1: Popular)')\n",
    "plt.ylabel('Duration (ms)')\n",
    "plt.show()"
   ]
  },
  {
   "cell_type": "markdown",
   "metadata": {},
   "source": [
    "Observando o gráfico acima, vemos que:\n",
    "\n",
    "1. As medianas de duração para músicas populares e não populares são muito semelhantes, sugerindo que a duração por si só não é um forte indicador de popularidade.\n",
    "2. A dispersão (representada pelo tamanho das caixas) é ligeiramente menor para músicas populares, indicando uma maior consistência na duração dessas faixas.\n",
    "3. Existem muitos outliers em ambas as categorias, representando músicas com durações excepcionalmente longas.\n",
    "4. As músicas populares parecem ter menos outliers extremos em comparação com as não populares, especialmente na faixa de duração mais longa.\n",
    "5. A maioria das músicas, independentemente da popularidade, tem duração dentro de um intervalo relativamente estreito, como evidenciado pelo tamanho das caixas do boxplot.\n",
    "6. Há uma leve tendência de músicas populares terem durações um pouco mais curtas, observável pela posição ligeiramente inferior da caixa para músicas populares."
   ]
  },
  {
   "cell_type": "markdown",
   "metadata": {},
   "source": [
    "Os insights mais importantes que encontramos em nossa análise incluem: a ligeira tendência de músicas populares terem maior energia e dançabilidade; a predominância de conteúdo não explícito em ambas as categorias de popularidade, com uma sutil inclinação para mais conteúdo explícito em músicas populares; e a observação de que a duração das músicas não é um forte indicador de popularidade, embora músicas populares tendam a ter durações mais consistentes. Além disso, notamos correlações significativas entre certas características musicais, como a relação positiva entre energia e volume (loudness), e negativa entre acústica e energia."
   ]
  },
  {
   "cell_type": "markdown",
   "metadata": {},
   "source": [
    "Ainda é muito cedo para entrarmos na escolha das features para nosso modelo, mas já é possível observar que não existe uma coluna em específica que determina a popularidade das músicas, com isso, é bastante provável que vamos utilizar todas as colunas para treinar nosso modelo, excluindo apenas as colunas de identificação."
   ]
  },
  {
   "cell_type": "markdown",
   "metadata": {},
   "source": [
    "## Formulação de Hipóteses"
   ]
  },
  {
   "cell_type": "markdown",
   "metadata": {},
   "source": [
    "#### Hipótese 01: Influência da dançabilidade na era do TikTok\n",
    "\n",
    "Com a popularização do TikTok, onde coreografias virais são frequentes, músicas mais dançantes podem ter maior probabilidade de se tornarem populares. Esta hipótese sugere uma correlação positiva entre a dançabilidade de uma música e sua popularidade."
   ]
  },
  {
   "cell_type": "code",
   "execution_count": null,
   "metadata": {},
   "outputs": [],
   "source": [
    "plt.subplot(2, 2, 1)\n",
    "sns.boxplot(x='popularity_target', y='danceability', data=df)\n",
    "plt.title('Dançabilidade vs. Popularidade')\n",
    "plt.xlabel('Popularidade (0: Não Popular, 1: Popular)')\n",
    "plt.ylabel('Dançabilidade')"
   ]
  },
  {
   "cell_type": "markdown",
   "metadata": {},
   "source": [
    "É possível observar que a média de músicas dançantes é um pouco mais alto para músicas populares, mas a diferença não é tão grande assim, logo, não indica extrema importância se a música é dançante ou não para ela ser popular."
   ]
  },
  {
   "cell_type": "markdown",
   "metadata": {},
   "source": [
    "#### Hipótese 02: Conteúdo explícito em músicas de temática triste\n",
    "\n",
    "Músicas categorizadas como \"sad\" ou emocionalmente intensas podem ter uma maior tendência a conter conteúdo explícito."
   ]
  },
  {
   "cell_type": "code",
   "execution_count": null,
   "metadata": {},
   "outputs": [],
   "source": [
    "plt.subplot(2, 2, 2)\n",
    "sad_genres = ['sad', 'melancholic', 'emotional']  # Ajuste conforme necessário\n",
    "df['is_sad'] = df['track_genre'].isin(sad_genres)\n",
    "sns.barplot(x='is_sad', y='explicit', data=df)\n",
    "plt.title('Conteúdo Explícito em Músicas Tristes vs. Outras')\n",
    "plt.xlabel('Gênero Triste')\n",
    "plt.ylabel('Proporção de Conteúdo Explícito')\n",
    "df = df.drop(columns='is_sad')"
   ]
  },
  {
   "cell_type": "markdown",
   "metadata": {},
   "source": [
    "É possível observar que o conteúdo explícito está extremamente presente em músicas classificadas como 'sad', 'melancholic' ou 'emotional'. Comprovando nossa hipótese."
   ]
  },
  {
   "cell_type": "markdown",
   "metadata": {},
   "source": [
    "#### Hipótese 03: Popularidade de músicas com temática melancólica\n",
    "\n",
    "Músicas classificadas como 'sad' estão entre as mais populares, principalmente porque hoje a depressão é o problema do século."
   ]
  },
  {
   "cell_type": "code",
   "execution_count": null,
   "metadata": {},
   "outputs": [],
   "source": [
    "top_genres = df['track_genre'].value_counts().nlargest(10)\n",
    "plt.figure(figsize=(12, 6))\n",
    "sns.barplot(x=top_genres.index, y=top_genres.values)\n",
    "plt.title('Top 10 Genres by Count')\n",
    "plt.xticks(rotation=45, ha='right')\n",
    "plt.show()"
   ]
  },
  {
   "cell_type": "markdown",
   "metadata": {},
   "source": [
    "É possível ver que o gênero 'sad' é o segundo gênero com maior sucesso de músicas populares. Comprovando nossa hipótese."
   ]
  },
  {
   "cell_type": "markdown",
   "metadata": {},
   "source": [
    "#### Hipótese 04: Relação inversa entre instrumentalidade e popularidade\n",
    "\n",
    "Músicas com alto grau de instrumentalidade (pouco ou nenhum vocal) podem tender a ser menos populares, possivelmente devido à preferência do público mainstream por músicas com letras e vozes."
   ]
  },
  {
   "cell_type": "code",
   "execution_count": null,
   "metadata": {},
   "outputs": [],
   "source": [
    "plt.subplot(2, 2, 4)\n",
    "sns.boxplot(x='popularity_target', y='instrumentalness', data=df)\n",
    "plt.title('Instrumentalidade vs. Popularidade')\n",
    "plt.xlabel('Popularidade (0: Não Popular, 1: Popular)')\n",
    "plt.ylabel('Instrumentalidade')"
   ]
  },
  {
   "cell_type": "markdown",
   "metadata": {},
   "source": [
    "É possível observar que existem músicas populares e que são instrumentais, mas, em maioria, elas são classificadas como não populares. Comprovando nossa hipótese."
   ]
  },
  {
   "cell_type": "markdown",
   "metadata": {},
   "source": [
    "## Limpeza e Tratamento de Valores Nulos"
   ]
  },
  {
   "cell_type": "markdown",
   "metadata": {},
   "source": [
    "### Tratamento de valores duplicados"
   ]
  },
  {
   "cell_type": "markdown",
   "metadata": {},
   "source": [
    "Fazer a limpeza de valores duplicados é importantes pois valores duplicados podem prejudicar no aprendizado do nosso algoritmo. Para realizar a limpeza, vamos primeiro checar se existem valores duplicados e caso existirem, vamos excluir todos."
   ]
  },
  {
   "cell_type": "code",
   "execution_count": null,
   "metadata": {},
   "outputs": [],
   "source": [
    "duplicated_values = df[df.duplicated()]\n",
    "print(len(duplicated_values))"
   ]
  },
  {
   "cell_type": "markdown",
   "metadata": {},
   "source": [
    "Como podemos ver acima, não existem valores duplicados. Assim, seguiremos com nossa análise"
   ]
  },
  {
   "cell_type": "markdown",
   "metadata": {},
   "source": [
    "### Tratamento de missing values"
   ]
  },
  {
   "cell_type": "markdown",
   "metadata": {},
   "source": [
    "Missing values são valores = null\n",
    "\n",
    "É importante verificar a existência deles e resolver os valores faltantes caso existam."
   ]
  },
  {
   "cell_type": "code",
   "execution_count": null,
   "metadata": {},
   "outputs": [],
   "source": [
    "df.isnull().sum()"
   ]
  },
  {
   "cell_type": "markdown",
   "metadata": {},
   "source": [
    "Como podemos ver acima, também não existem valores faltantes."
   ]
  },
  {
   "cell_type": "markdown",
   "metadata": {},
   "source": [
    "Agora, vamos verificar valores que são iguais a 0. Como identificamos lá no começo desse notebook, já sabemos de alguns valores que não deveriam estar iguais a 0. Também vamos procurar por novos valores iguais a 0 e que não deveriam estar assim, caso existam, vamos resolver."
   ]
  },
  {
   "cell_type": "code",
   "execution_count": null,
   "metadata": {},
   "outputs": [],
   "source": [
    "zero_count = (df == 0).sum()\n",
    "print(zero_count)"
   ]
  },
  {
   "cell_type": "markdown",
   "metadata": {},
   "source": [
    "Como podemos ver acima, as colunas 'time_signature' e 'tempo' possuem valores iguais a 0 e elas não deveriam estar assim:\n",
    "\n",
    "1. Tempo:\n",
    "\n",
    "- Representa a velocidade da música em batidas por minuto (BPM).\n",
    "- Um valor 0 significaria que não há batidas, o que é musicalmente impossível.\n",
    "- Tempos típicos variam de cerca de 60 BPM (lento) a 200 BPM (muito rápido).\n",
    "\n",
    "\n",
    "2. Time signature (fórmula de compasso):\n",
    "\n",
    "- Indica quantas batidas há por compasso e qual nota representa uma batida.\n",
    "- É escrita como uma fração, por exemplo, 4/4 ou 3/4.\n",
    "- Um valor 0 não faria sentido, pois implicaria em nenhuma batida por compasso."
   ]
  },
  {
   "cell_type": "code",
   "execution_count": null,
   "metadata": {},
   "outputs": [],
   "source": [
    "df['time_signature'].value_counts()"
   ]
  },
  {
   "cell_type": "code",
   "execution_count": null,
   "metadata": {},
   "outputs": [],
   "source": [
    "print(df['tempo'].describe(), df['tempo'].value_counts())"
   ]
  },
  {
   "cell_type": "markdown",
   "metadata": {},
   "source": [
    "Para resolver esses 2 problemas, vamos: \n",
    "\n",
    "- Substituir os valores de 'time_signature' pela moda, que é 4\n",
    "- Substituir os valores de 'tempo' pela mediana"
   ]
  },
  {
   "cell_type": "code",
   "execution_count": 25,
   "metadata": {},
   "outputs": [],
   "source": [
    "tempo_median = df['tempo'].median()\n",
    "df_treating_data = df.copy()\n",
    "df_treating_data['tempo'] = df_treating_data['tempo'].replace(0,tempo_median)\n",
    "df_treating_data['time_signature'] = df_treating_data['time_signature'].replace(0,4)"
   ]
  },
  {
   "cell_type": "markdown",
   "metadata": {},
   "source": [
    "### Identificação de outliers e correção"
   ]
  },
  {
   "cell_type": "markdown",
   "metadata": {},
   "source": [
    "As colunas que vamos visualizar e depois tratar os outliers são as colunas: 'duration_ms', 'loudness' e 'tempo'.\n",
    "\n",
    "Realizei a escolha dessas três colunas porque todas as outras colunas numéricas se constituem de valores que vâo de 0 a 1. Algumas até possuem outliers mas são features importantes e que quero manter para preservar a pureza dos dados em features que vão de 0 a 1. Mais tarde, vamos minimizar os impactos que esses outliers podem causar com o standardScaler\n",
    "\n",
    "Agora partindo para a identificação dos outliers que escolhemos, vamos começar visualizando em boxplot os possíveis outliers."
   ]
  },
  {
   "cell_type": "code",
   "execution_count": null,
   "metadata": {},
   "outputs": [],
   "source": [
    "sns.boxplot(data=df_treating_data, y='duration_ms')\n",
    "plt.show()"
   ]
  },
  {
   "cell_type": "markdown",
   "metadata": {},
   "source": [
    "Observando o gráfico acima, é possívei ver que 'duration_ms' possui vários outliers, vamos guardar essa informação e em breve corrigir eles."
   ]
  },
  {
   "cell_type": "markdown",
   "metadata": {},
   "source": [
    "Agora fazendo a análise dos outliers de 'loudness', vamos desenhar outro boxplot para realizar essa visualização:"
   ]
  },
  {
   "cell_type": "code",
   "execution_count": null,
   "metadata": {},
   "outputs": [],
   "source": [
    "sns.boxplot(data=df_treating_data, y='loudness')\n",
    "plt.show()"
   ]
  },
  {
   "cell_type": "markdown",
   "metadata": {},
   "source": [
    "Agora fazendo a análise dos outliers de 'tempo', vamos desenhar outro boxplot para realizar essa visualização:"
   ]
  },
  {
   "cell_type": "code",
   "execution_count": null,
   "metadata": {},
   "outputs": [],
   "source": [
    "sns.boxplot(data=df_treating_data, y='tempo')\n",
    "plt.show()"
   ]
  },
  {
   "cell_type": "markdown",
   "metadata": {},
   "source": [
    "Sabendo dos outliers que 'duration_ms', 'loudness' e 'tempo' possuem, vamos agora partir para a correção deles.\n",
    "\n",
    "Para os outliers de 'loudness' e 'tempo', decidi manter eles do jeito que estão. Pelas mesmas que citei acima, sobre as colunas que vão de 0 a 1. \n",
    "\n",
    "Como essas duas colunas representam caracteristicas específicas da música em questão e também podem representar escolhas específicas do artista que a fez, acho importante manter esses outliers do jeito que estão.\n",
    "\n",
    "---\n",
    "\n",
    "Já para os outliers de 'duration_ms', vamos agora tentar três medidas diferentes para corrigi-los:\n",
    "\n",
    "1. Vamos manter eles intocáveis.\n",
    "2. Vamos excluir todos os outliers\n",
    "3. Vamos aplicar uma transformação logarítmica.\n",
    "\n",
    "A transformação logarítmica ajuda a lidar com outliers (valores extremos) e dados distorcidos ao comprimir a amplitude dos valores, especialmente os números grandes. Isso faz com que valores extremos se tornem menos extremos, enquanto ainda preserva as diferenças relativas entre os dados."
   ]
  },
  {
   "cell_type": "markdown",
   "metadata": {},
   "source": [
    "Antes de tomar essas três medidas, vamos excluir algumas colunas que não serão importantes para o treinamento do nosso modelo, essas colunas são: 'track_id', 'track_unique_id', 'artists', 'album_name' e 'track_name'.\n",
    "\n",
    "- track_id: Usado apenas para identificação de uma música em questão, por isso, não é importante para nosso futuro modelo.\n",
    "- track_unique_id: Também usado apenas para identificação.\n",
    "- artists: Poderia ser um dado importante caso nossa base de dados classificasem o nível de fama de cada artista, pois artistas famosos tendem a gerar músicas populares com mais facilidade. Como nossa base de dados não contém isso, vamos excluir essa coluna porque na situação que está, essa coluna é usada apenas para identificação.\n",
    "- album_name: Como nossa base de dados não contém também uma coluna classificando o nível de popularidade do album em questão, não vamos estar utilizando essa informação.\n",
    "- track_name: Usado apenas para identificação."
   ]
  },
  {
   "cell_type": "code",
   "execution_count": 29,
   "metadata": {},
   "outputs": [],
   "source": [
    "df_treating_data = df_treating_data.drop(columns=['track_unique_id', 'track_id', 'artists', 'album_name', 'track_name'])"
   ]
  },
  {
   "cell_type": "markdown",
   "metadata": {},
   "source": [
    "Com essas alterações feitas, agora vamos tomar as três medidas para realizar a correção dos outliers de 'durations_ms'"
   ]
  },
  {
   "cell_type": "markdown",
   "metadata": {},
   "source": [
    "1. Primeiro, vamos tomar a medida em que excluímos todos os outliers de 'duration_ms'"
   ]
  },
  {
   "cell_type": "code",
   "execution_count": 30,
   "metadata": {},
   "outputs": [],
   "source": [
    "Q1 = df_treating_data['duration_ms'].quantile(0.25)\n",
    "Q3 = df_treating_data['duration_ms'].quantile(0.75)\n",
    "IQR = Q3 - Q1\n",
    "\n",
    "lower_bound = Q1 - 1.5 * IQR\n",
    "upper_bound = Q3 + 1.5 * IQR\n",
    "\n",
    "df_no_duration_outliers = df_treating_data.copy()\n",
    "\n",
    "df_no_duration_outliers = df_no_duration_outliers[(df_no_duration_outliers['duration_ms'] >= lower_bound) & (df_no_duration_outliers['duration_ms'] <= upper_bound)]"
   ]
  },
  {
   "cell_type": "markdown",
   "metadata": {},
   "source": [
    "2. Segundo, vamos aplicar a transformação logarítmica"
   ]
  },
  {
   "cell_type": "code",
   "execution_count": 31,
   "metadata": {},
   "outputs": [],
   "source": [
    "# Criando uma copia para nossa segunda medida com os outliers\n",
    "df_duration_log = df_treating_data.copy()\n",
    "\n",
    "# fazendo a transformacao logaritma\n",
    "df_duration_log['duration_log'] = np.log1p(df_duration_log['duration_ms'])\n",
    "\n",
    "# excluindo a coluna de duracao normal porque nao vamos utilizar ela nessa base de dados\n",
    "df_duration_log = df_duration_log.drop(columns=['duration_ms'])"
   ]
  },
  {
   "cell_type": "markdown",
   "metadata": {},
   "source": [
    "Agora é possível observar que estamos com três base de dados:\n",
    "\n",
    "1. df_treating_data: Contém os outliers de 'duration_ms' sem alterações\n",
    "2. df_no_duration_outliers: Não contém nenhum outlier de 'duration_ms'\n",
    "3. df_duration_log: Contém os outliers mas com a transformação log aplicada em todos.\n",
    "\n",
    "Agora, seguiremos com esses 3 modelos até o treinamento do nosso modelo, onde veremos qual base de dados resultará um melhor resultado."
   ]
  },
  {
   "cell_type": "markdown",
   "metadata": {},
   "source": [
    "## Codificação de Variáveis Categóricas"
   ]
  },
  {
   "cell_type": "markdown",
   "metadata": {},
   "source": [
    "Aplique técnicas apropriadas de codificação para transformar variáveis categóricas em formatos utilizáveis em modelos preditivos, garantindo que a informação essencial não seja perdida no processo."
   ]
  },
  {
   "cell_type": "markdown",
   "metadata": {},
   "source": [
    "Agora, entramos na etapa de codificar as variáveis categóricas. As únicas 2 colunas que não são numéricas e precisar sem codificadas, são 'explicit' que é uma coluna boolean e 'track_genre' que é uma coluna categórica. \n",
    "\n",
    "Para garantir que não vamos perder as informações essenciais nessa etapa, vamos codificar as variáveis de 'track_genre' com um método chamado Target Encode. \n",
    "\n",
    "Já a coluna 'explicit', por ser uma coluna boolean, para codifica-lá, basta transformar os valores em valores int. Faremos isso abaixo.\n",
    "\n",
    "É importante lembrar que, como temos 3 base de dados, vamos codificar as colunas de cada uma:"
   ]
  },
  {
   "cell_type": "code",
   "execution_count": 32,
   "metadata": {},
   "outputs": [],
   "source": [
    "df_treating_data['explicit'] = df_treating_data['explicit'].astype(int)\n",
    "df_no_duration_outliers['explicit'] = df_no_duration_outliers['explicit'].astype(int)\n",
    "df_duration_log['explicit'] = df_duration_log['explicit'].astype(int)"
   ]
  },
  {
   "cell_type": "markdown",
   "metadata": {},
   "source": [
    "Agora abaixo, criamos a função para codificar nossa coluna 'track_genre'. \n",
    "\n",
    "A escolha do Target Encode foi feita porque enfrentamos o desafio de lidar com a variável categórica 'track_genre', que possui alta cardinalidade (114 categorias únicas). Para abordar esse problema de maneira eficaz, implementamos a técnica de Target Encoding.\n",
    "\n",
    "Target Encoding é uma técnica usada para converter variáveis categóricas em valores numéricos. Diferentemente de métodos como mais utilizados como LabelEncoder, o Target Encoding leva em consideração a variável alvo (popularity_target) ao realizar a codificação.\n",
    "\n",
    "1. Para cada categoria na variável categórica (no nosso caso, cada gênero musical), calculamos a média da variável alvo.\n",
    "2. Substituímos cada categoria pelo valor médio calculado.\n",
    "3. Para evitar overfitting, utilizamos uma abordagem de validação cruzada na implementação.\n",
    "\n",
    "Mas por que estamos usando o Target Encoder nesse caso ?\n",
    "\n",
    "1. Alta Cardinalidade: Com 114 gêneros musicais únicos, métodos como One-Hot Encoding criariam um número excessivo de features, potencialmente levando a problemas de dimensionalidade.\n",
    "2. Captura de Informação Relevante: O Target Encoding captura a relação entre cada gênero musical e a popularidade da música, fornecendo uma representação numérica significativa.\n",
    "3. Eficiência Computacional: Reduz a dimensionalidade dos dados sem perder informações cruciais sobre a relação entre gênero e popularidade.\n",
    "4. Tratamento de Categorias Raras: Lida bem com gêneros musicais que aparecem com pouca frequência no dataset.\n",
    "\n",
    "O Target Encoding nos permite transformar a informação categórica dos gêneros musicais em uma representação numérica que preserva e destaca a relação entre gênero e popularidade.\n"
   ]
  },
  {
   "cell_type": "code",
   "execution_count": 33,
   "metadata": {},
   "outputs": [],
   "source": [
    "def target_encode_cv(df, column, target, n_splits=5):\n",
    "    encoded = np.zeros(len(df))\n",
    "    kf = KFold(n_splits=n_splits, shuffle=True, random_state=42)\n",
    "    \n",
    "    for train_idx, val_idx in kf.split(df):\n",
    "        target_means = df.iloc[train_idx].groupby(column)[target].mean()\n",
    "        encoded[val_idx] = df[column].iloc[val_idx].map(target_means)\n",
    "    \n",
    "    global_mean = df[target].mean()\n",
    "    encoded = np.where(np.isnan(encoded), global_mean, encoded)\n",
    "    \n",
    "    return encoded"
   ]
  },
  {
   "cell_type": "code",
   "execution_count": null,
   "metadata": {},
   "outputs": [],
   "source": [
    "df_treating_data['track_genre_encoded'] = target_encode_cv(df_treating_data, 'track_genre', 'popularity_target')\n",
    "\n",
    "# Verificação dos resultados\n",
    "print(df_treating_data[['track_genre', 'track_genre_encoded', 'popularity_target']].head(10))\n",
    "print(\"\\nCorrelação entre 'track_genre_encoded' e 'popularity_target':\")\n",
    "print(df_treating_data['track_genre_encoded'].corr(df['popularity_target']))\n",
    "df_treating_data = df_treating_data.drop(columns='track_genre')"
   ]
  },
  {
   "cell_type": "code",
   "execution_count": null,
   "metadata": {},
   "outputs": [],
   "source": [
    "df_no_duration_outliers['track_genre_encoded'] = target_encode_cv(df_no_duration_outliers, 'track_genre', 'popularity_target')\n",
    "\n",
    "# Verificação dos resultados\n",
    "print(df_no_duration_outliers[['track_genre', 'track_genre_encoded', 'popularity_target']].head(10))\n",
    "print(\"\\nCorrelação entre 'track_genre_encoded' e 'popularity_target':\")\n",
    "print(df_no_duration_outliers['track_genre_encoded'].corr(df['popularity_target']))\n",
    "df_no_duration_outliers = df_no_duration_outliers.drop(columns='track_genre')"
   ]
  },
  {
   "cell_type": "code",
   "execution_count": null,
   "metadata": {},
   "outputs": [],
   "source": [
    "df_duration_log['track_genre_encoded'] = target_encode_cv(df_duration_log, 'track_genre', 'popularity_target')\n",
    "\n",
    "# Verificação dos resultados\n",
    "print(df_duration_log[['track_genre', 'track_genre_encoded', 'popularity_target']].head(10))\n",
    "print(\"\\nCorrelação entre 'track_genre_encoded' e 'popularity_target':\")\n",
    "print(df_duration_log['track_genre_encoded'].corr(df['popularity_target']))\n",
    "df_duration_log = df_duration_log.drop(columns='track_genre')"
   ]
  },
  {
   "cell_type": "markdown",
   "metadata": {},
   "source": [
    "Análisando os resultados acima, podemos ver que o Target Encoding capturou informações relevantes sobre a relação entre os gêneros musicais e a popularidade, sem criar uma relação perfeita que poderia levar a overfitting.\n",
    "\n",
    "Por exemplo, \"pop\" tem um valor codificado de 0.675627, sugerindo que cerca de 67.56% das músicas pop são populares.\n",
    "\n",
    "Essas informações serão valiosas no momento em que formos treinar os algoritmos."
   ]
  },
  {
   "cell_type": "markdown",
   "metadata": {},
   "source": [
    "## Seleção de Features"
   ]
  },
  {
   "cell_type": "markdown",
   "metadata": {},
   "source": [
    "As features que vamos incluir em nosso modelo preditivo são: \n",
    "\n",
    "duration_ms', 'explicit', 'danceability', 'energy', 'key', 'loudness', 'mode', 'speechiness', 'acousticness', 'instrumentalness', 'liveness', 'valence', 'tempo', 'time_signature', 'popularity_target', 'track_genre_encoded'\n",
    "\n",
    "Justificativa para a escolha dessas features:\n",
    "\n",
    "1. duration_ms: Duração da faixa em milissegundos\n",
    "2. explicit: Indicador de conteúdo explícito\n",
    "3. danceability: Quão adequada a faixa é para dançar\n",
    "4. energy: Medida de intensidade e atividade\n",
    "5. key: Tonalidade da faixa\n",
    "6. loudness: Volume geral da faixa em decibéis\n",
    "7. mode: Modalidade da faixa (maior ou menor)\n",
    "8. speechiness: Presença de palavras faladas\n",
    "9. acousticness: Medida de quão acústica é a faixa\n",
    "10. instrumentalness: Predição da ausência de vocais\n",
    "11. liveness: Presença de público na gravação\n",
    "12. valence: Positividade musical da faixa\n",
    "13. tempo: Velocidade ou ritmo estimado em BPM\n",
    "14. time_signature: Fórmula de compasso estimada\n",
    "15. popularity_target: Alvo de popularidade (variável dependente)\n",
    "16. track_genre_encoded: Gênero da faixa (codificado)\n",
    "\n",
    "Justificativa da Seleção\n",
    "\n",
    "1. Características Acústicas: danceability, energy, loudness, acousticness, instrumentalness, valence, e tempo foram incluídas por representarem aspectos fundamentais do som e da percepção musical, que podem influenciar diretamente a popularidade.\n",
    "2. Estrutura Musical: key, mode, e time_signature foram mantidas por fornecerem informações sobre a estrutura musical, que pode afetar a acessibilidade e apelo da faixa.\n",
    "3. Conteúdo: explicit e speechiness foram incluídas por poderem influenciar a recepção e distribuição da música em diferentes plataformas e faixas etárias.\n",
    "4. Experiência de Escuta: duration_ms e liveness foram mantidas por afetarem a experiência de escuta, potencialmente impactando o engajamento do ouvinte.\n",
    "5. Contexto: track_genre_encoded foi incluída por fornecer contexto importante sobre o estilo musical, que pode ser crucial para entender padrões de popularidade em diferentes nichos.\n",
    "6. Alvo: popularity_target é a variável dependente que o modelo tentará prever.\n",
    "\n",
    "- Vale também levantar o ponto de que para prever com a melhor acurácia possível, é importante manter o máximo de colunas porque os dados parecem estar extremamente conectados entre si.\n",
    "\n",
    "Pré-processamento e transformação:\n",
    "\n",
    "1. Para tentar ao máximo garantir o melhor resultado possível, em breve, vamos criar novas base de dados e realizar o escalonamento de todos os valores. (Vale levantar o ponto de que vamos testar todas as bases de dados e escolher o melhor resultado gerado.)"
   ]
  },
  {
   "cell_type": "markdown",
   "metadata": {},
   "source": [
    "## Construção e Avaliação do Modelo"
   ]
  },
  {
   "cell_type": "markdown",
   "metadata": {},
   "source": [
    "Antes de selecionar um modelo de Machine Learning, precisamos separar nossos dados entre 'treino', 'validação' e 'teste'. Como estamos trabalhando com três bases de dados, vamos separar os dados para todas elas."
   ]
  },
  {
   "cell_type": "markdown",
   "metadata": {},
   "source": [
    "Os três códigos abaixo, separam o 'popularity_target' do resto da base de dados, assim, podemos treinar nosso algoritmo."
   ]
  },
  {
   "cell_type": "code",
   "execution_count": 37,
   "metadata": {},
   "outputs": [],
   "source": [
    "X_df_treating_data = df_treating_data.drop('popularity_target', axis=1)\n",
    "y_df_treating_data = df_treating_data['popularity_target']"
   ]
  },
  {
   "cell_type": "code",
   "execution_count": 38,
   "metadata": {},
   "outputs": [],
   "source": [
    "X_df_no_duration_outliers = df_no_duration_outliers.drop('popularity_target', axis=1)\n",
    "y_df_no_duration_outliers = df_no_duration_outliers['popularity_target']"
   ]
  },
  {
   "cell_type": "code",
   "execution_count": 39,
   "metadata": {},
   "outputs": [],
   "source": [
    "X_df_duration_log = df_duration_log.drop('popularity_target', axis=1)\n",
    "y_df_duration_log = df_duration_log['popularity_target']"
   ]
  },
  {
   "cell_type": "markdown",
   "metadata": {},
   "source": [
    "Agora, vamos separar as bases de dados entre 'train', 'validation' e 'test'"
   ]
  },
  {
   "cell_type": "code",
   "execution_count": null,
   "metadata": {},
   "outputs": [],
   "source": [
    "# Primeiro, conjunto de teste\n",
    "X_temp_df_treating_data, X_test_df_treating_data, y_temp_df_treating_data, y_test_df_treating_data = train_test_split(X_df_treating_data, y_df_treating_data, test_size=0.2, random_state=42)\n",
    "\n",
    "# Agora, o restante em treino e validação\n",
    "X_train_df_treating_data, X_val_df_treating_data, y_train_df_treating_data, y_val_df_treating_data = train_test_split(X_temp_df_treating_data, y_temp_df_treating_data, test_size=0.25, random_state=42)\n",
    "\n",
    "print(f\"Tamanho do conjunto de treino: {len(X_train_df_treating_data)}\")\n",
    "print(f\"Tamanho do conjunto de validação: {len(X_val_df_treating_data)}\")\n",
    "print(f\"Tamanho do conjunto de teste: {len(X_test_df_treating_data)}\")"
   ]
  },
  {
   "cell_type": "code",
   "execution_count": null,
   "metadata": {},
   "outputs": [],
   "source": [
    "# Primeiro, conjunto de teste\n",
    "X_temp_df_no_duration_outliers, X_test_df_no_duration_outliers, y_temp_df_no_duration_outliers, y_test_df_no_duration_outliers = train_test_split(X_df_no_duration_outliers, y_df_no_duration_outliers, test_size=0.2, random_state=42)\n",
    "\n",
    "# Agora, o restante em treino e validação\n",
    "X_train_df_no_duration_outliers, X_val_df_no_duration_outliers, y_train_df_no_duration_outliers, y_val_df_no_duration_outliers = train_test_split(X_temp_df_no_duration_outliers, y_temp_df_no_duration_outliers, test_size=0.25, random_state=42)\n",
    "\n",
    "print(f\"Tamanho do conjunto de treino: {len(X_train_df_no_duration_outliers)}\")\n",
    "print(f\"Tamanho do conjunto de validação: {len(X_val_df_no_duration_outliers)}\")\n",
    "print(f\"Tamanho do conjunto de teste: {len(X_test_df_no_duration_outliers)}\")"
   ]
  },
  {
   "cell_type": "code",
   "execution_count": null,
   "metadata": {},
   "outputs": [],
   "source": [
    "# Primeiro, conjunto de teste\n",
    "X_temp_df_duration_log, X_test_df_duration_log, y_temp_df_duration_log, y_test_df_duration_log = train_test_split(X_df_duration_log, y_df_duration_log, test_size=0.2, random_state=42)\n",
    "\n",
    "# Agora, o restante em treino e validação\n",
    "X_train_df_duration_log, X_val_df_duration_log, y_train_df_duration_log, y_val_df_duration_log = train_test_split(X_temp_df_duration_log, y_temp_df_duration_log, test_size=0.25, random_state=42)\n",
    "\n",
    "print(f\"Tamanho do conjunto de treino: {len(X_train_df_duration_log)}\")\n",
    "print(f\"Tamanho do conjunto de validação: {len(X_val_df_duration_log)}\")\n",
    "print(f\"Tamanho do conjunto de teste: {len(X_test_df_duration_log)}\")"
   ]
  },
  {
   "cell_type": "markdown",
   "metadata": {},
   "source": [
    "Como um último teste, em busca do melhor resultado possível, vamos também escalonar nossa base de dados 'df_treating_data' para também testar algoritmos com o escalonamento e decidir entre o melhor resultado."
   ]
  },
  {
   "cell_type": "code",
   "execution_count": null,
   "metadata": {},
   "outputs": [],
   "source": [
    "scaler = StandardScaler()\n",
    "scaler.fit(X_train_df_treating_data)"
   ]
  },
  {
   "cell_type": "code",
   "execution_count": 44,
   "metadata": {},
   "outputs": [],
   "source": [
    "X_train_df_treating_data_scaled = scaler.transform(X_train_df_treating_data)\n",
    "X_val_df_treating_data_scaled = scaler.transform(X_val_df_treating_data)\n",
    "X_test_df_treating_data_scaled = scaler.transform(X_test_df_treating_data)"
   ]
  },
  {
   "cell_type": "markdown",
   "metadata": {},
   "source": [
    "### Testando os modelos preditivos\n",
    "\n",
    "Agora, com tudo feito e separado, podemos começar a testar os algoritmos."
   ]
  },
  {
   "cell_type": "markdown",
   "metadata": {},
   "source": [
    "#### RandomForest"
   ]
  },
  {
   "cell_type": "code",
   "execution_count": 45,
   "metadata": {},
   "outputs": [],
   "source": [
    "rf_classifier = RandomForestClassifier(random_state=42, n_estimators=500, min_samples_split=2, min_samples_leaf=1,max_features='sqrt',max_depth=30)"
   ]
  },
  {
   "cell_type": "code",
   "execution_count": null,
   "metadata": {},
   "outputs": [],
   "source": [
    "rf_classifier.fit(X_train_df_treating_data, y_train_df_treating_data)"
   ]
  },
  {
   "cell_type": "code",
   "execution_count": null,
   "metadata": {},
   "outputs": [],
   "source": [
    "y_pred_df_treating_data_random_forest = rf_classifier.predict(X_val_df_treating_data)\n",
    "\n",
    "print(classification_report(y_val_df_treating_data, y_pred_df_treating_data_random_forest))"
   ]
  },
  {
   "cell_type": "code",
   "execution_count": null,
   "metadata": {},
   "outputs": [],
   "source": [
    "rf_classifier.fit(X_train_df_no_duration_outliers, y_train_df_no_duration_outliers)"
   ]
  },
  {
   "cell_type": "code",
   "execution_count": null,
   "metadata": {},
   "outputs": [],
   "source": [
    "y_pred_df_no_duration_outliers_random_forest = rf_classifier.predict(X_val_df_no_duration_outliers)\n",
    "\n",
    "print(classification_report(y_val_df_no_duration_outliers, y_pred_df_no_duration_outliers_random_forest))"
   ]
  },
  {
   "cell_type": "code",
   "execution_count": null,
   "metadata": {},
   "outputs": [],
   "source": [
    "rf_classifier.fit(X_train_df_duration_log, y_train_df_duration_log)"
   ]
  },
  {
   "cell_type": "code",
   "execution_count": null,
   "metadata": {},
   "outputs": [],
   "source": [
    "y_pred_df_duration_log_random_forest = rf_classifier.predict(X_val_df_duration_log)\n",
    "\n",
    "print(classification_report(y_val_df_duration_log, y_pred_df_duration_log_random_forest))"
   ]
  },
  {
   "cell_type": "code",
   "execution_count": null,
   "metadata": {},
   "outputs": [],
   "source": [
    "rf_classifier.fit(X_train_df_treating_data_scaled, y_train_df_treating_data)"
   ]
  },
  {
   "cell_type": "code",
   "execution_count": null,
   "metadata": {},
   "outputs": [],
   "source": [
    "y_pred_df_treating_data_scaled_random_forest = rf_classifier.predict(X_val_df_treating_data_scaled)\n",
    "\n",
    "print(classification_report(y_val_df_treating_data, y_pred_df_treating_data_scaled_random_forest))"
   ]
  },
  {
   "cell_type": "markdown",
   "metadata": {},
   "source": [
    "Como podemos ver acima, o random forest em média nos garante um resultado de 82% de 'accuracy'. O ideial agora, é rodar o .predict na base de testar para garantir que não existe um overfitting."
   ]
  },
  {
   "cell_type": "code",
   "execution_count": null,
   "metadata": {},
   "outputs": [],
   "source": [
    "y_pred_df_treating_data_scaled_test = rf_classifier.predict(X_test_df_treating_data_scaled)\n",
    "\n",
    "print(classification_report(y_test_df_treating_data, y_pred_df_treating_data_scaled_test))"
   ]
  },
  {
   "cell_type": "markdown",
   "metadata": {},
   "source": [
    "Como podemos ver acima, o resultado do 'test' é bem parecido com o resultado do 'val'. O resultado dos 82% de 'acurracy' já são o suficiente para realizar o envio da tarefa mas vamos testar mais alguns modelos na busca de um 'accuracy' melhor."
   ]
  },
  {
   "cell_type": "markdown",
   "metadata": {},
   "source": [
    "#### Regressão Logística"
   ]
  },
  {
   "cell_type": "code",
   "execution_count": 55,
   "metadata": {},
   "outputs": [],
   "source": [
    "logistic_model = LogisticRegression(C=0.01, class_weight='balanced', max_iter=100, penalty='l1', solver='saga')"
   ]
  },
  {
   "cell_type": "code",
   "execution_count": null,
   "metadata": {},
   "outputs": [],
   "source": [
    "logistic_model.fit(X_train_df_treating_data, y_train_df_treating_data)\n",
    "\n",
    "y_pred_df_treating_data_logistic_reggresion = logistic_model.predict(X_val_df_treating_data)\n",
    "\n",
    "print(classification_report(y_val_df_treating_data, y_pred_df_treating_data_logistic_reggresion))"
   ]
  },
  {
   "cell_type": "code",
   "execution_count": null,
   "metadata": {},
   "outputs": [],
   "source": [
    "logistic_model.fit(X_train_df_no_duration_outliers, y_train_df_no_duration_outliers)\n",
    "\n",
    "y_pred_df_no_duration_outliers_logistic_reggresion = logistic_model.predict(X_val_df_no_duration_outliers)\n",
    "\n",
    "print(classification_report(y_val_df_no_duration_outliers, y_pred_df_no_duration_outliers_logistic_reggresion))"
   ]
  },
  {
   "cell_type": "code",
   "execution_count": null,
   "metadata": {},
   "outputs": [],
   "source": [
    "logistic_model.fit(X_train_df_duration_log, y_train_df_duration_log)\n",
    "\n",
    "y_pred_df_duration_log_logistic_reggresion = logistic_model.predict(X_val_df_duration_log)\n",
    "\n",
    "print(classification_report(y_val_df_duration_log, y_pred_df_duration_log_logistic_reggresion))"
   ]
  },
  {
   "cell_type": "code",
   "execution_count": null,
   "metadata": {},
   "outputs": [],
   "source": [
    "logistic_model.fit(X_train_df_treating_data_scaled, y_train_df_treating_data)\n",
    "\n",
    "y_pred_df_treating_data_scaled_logistic_reggresion = logistic_model.predict(X_val_df_treating_data_scaled)\n",
    "\n",
    "print(classification_report(y_val_df_treating_data, y_pred_df_treating_data_scaled_logistic_reggresion))"
   ]
  },
  {
   "cell_type": "markdown",
   "metadata": {},
   "source": [
    "Para garantir que os resultados não são overfitting. Vamos testar no 'test' agora."
   ]
  },
  {
   "cell_type": "code",
   "execution_count": null,
   "metadata": {},
   "outputs": [],
   "source": [
    "logistic_model.fit(X_train_df_treating_data_scaled, y_train_df_treating_data)\n",
    "\n",
    "y_pred_df_treating_data_scaled_logistic_reggresion_test = logistic_model.predict(X_test_df_treating_data_scaled)\n",
    "\n",
    "print(classification_report(y_test_df_treating_data, y_pred_df_treating_data_scaled_logistic_reggresion_test))"
   ]
  },
  {
   "cell_type": "markdown",
   "metadata": {},
   "source": [
    "Os resultados não são tão bons quanto RandomForest mas também são resultados bons."
   ]
  },
  {
   "cell_type": "markdown",
   "metadata": {},
   "source": [
    "#### Naive Bayes"
   ]
  },
  {
   "cell_type": "code",
   "execution_count": 61,
   "metadata": {},
   "outputs": [],
   "source": [
    "nb_model = BernoulliNB()"
   ]
  },
  {
   "cell_type": "code",
   "execution_count": 62,
   "metadata": {},
   "outputs": [],
   "source": [
    "param_grid = {'alpha': [0.1, 0.5, 1.0, 1.5], 'binarize': [0.0, 0.5, 1.0]}"
   ]
  },
  {
   "cell_type": "code",
   "execution_count": null,
   "metadata": {},
   "outputs": [],
   "source": [
    "grid_search = GridSearchCV(estimator=nb_model, param_grid=param_grid, cv=5, scoring='accuracy')\n",
    "grid_search.fit(X_train_df_treating_data, y_train_df_treating_data)\n",
    "\n",
    "print(\"Melhor parâmetro:\", grid_search.best_params_)\n",
    "print(\"Melhor score:\", grid_search.best_score_)"
   ]
  },
  {
   "cell_type": "code",
   "execution_count": 64,
   "metadata": {},
   "outputs": [],
   "source": [
    "nb_model = BernoulliNB(alpha=0.1, binarize=0.5)"
   ]
  },
  {
   "cell_type": "code",
   "execution_count": null,
   "metadata": {},
   "outputs": [],
   "source": [
    "nb_model.fit(X_train_df_treating_data, y_train_df_treating_data)\n",
    "\n",
    "y_pred_df_treating_data_naive_bayes = nb_model.predict(X_val_df_treating_data)\n",
    "\n",
    "\n",
    "print(classification_report(y_val_df_treating_data, y_pred_df_treating_data_naive_bayes))"
   ]
  },
  {
   "cell_type": "code",
   "execution_count": null,
   "metadata": {},
   "outputs": [],
   "source": [
    "nb_model.fit(X_test_df_no_duration_outliers, y_test_df_no_duration_outliers)\n",
    "\n",
    "y_pred_df_no_duration_outliers_naive_bayes = nb_model.predict(X_val_df_no_duration_outliers)\n",
    "\n",
    "print(classification_report(y_val_df_no_duration_outliers, y_pred_df_no_duration_outliers_naive_bayes))"
   ]
  },
  {
   "cell_type": "code",
   "execution_count": null,
   "metadata": {},
   "outputs": [],
   "source": [
    "nb_model.fit(X_train_df_duration_log, y_train_df_duration_log)\n",
    "\n",
    "y_pred_df_duration_log_naive_bayes = nb_model.predict(X_val_df_duration_log)\n",
    "\n",
    "print(classification_report(y_val_df_duration_log, y_pred_df_duration_log_naive_bayes))"
   ]
  },
  {
   "cell_type": "code",
   "execution_count": null,
   "metadata": {},
   "outputs": [],
   "source": [
    "nb_model.fit(X_train_df_treating_data_scaled, y_train_df_treating_data)\n",
    "\n",
    "y_pred_df_treating_data_scaled_naive_bayes = nb_model.predict(X_val_df_treating_data_scaled)\n",
    "\n",
    "print(classification_report(y_val_df_treating_data, y_pred_df_treating_data_scaled_naive_bayes))"
   ]
  },
  {
   "cell_type": "markdown",
   "metadata": {},
   "source": [
    "Para garantir que os resultados não são overfitting. Vamos testar no 'test' agora."
   ]
  },
  {
   "cell_type": "code",
   "execution_count": null,
   "metadata": {},
   "outputs": [],
   "source": [
    "nb_model.fit(X_train_df_treating_data, y_train_df_treating_data)\n",
    "\n",
    "y_pred_df_treating_data_naive_bayes_test = nb_model.predict(X_test_df_treating_data)\n",
    "\n",
    "print(classification_report(y_test_df_treating_data, y_pred_df_treating_data_naive_bayes_test))"
   ]
  },
  {
   "cell_type": "markdown",
   "metadata": {},
   "source": [
    "Os resultados não são tão bons quanto RandomForest mas também são resultados bons."
   ]
  },
  {
   "cell_type": "markdown",
   "metadata": {},
   "source": [
    "## Árvore de Decisão"
   ]
  },
  {
   "cell_type": "code",
   "execution_count": 70,
   "metadata": {},
   "outputs": [],
   "source": [
    "dt_model = DecisionTreeClassifier()"
   ]
  },
  {
   "cell_type": "code",
   "execution_count": null,
   "metadata": {},
   "outputs": [],
   "source": [
    "param_grid = {\n",
    "    'criterion': ['gini', 'entropy'],\n",
    "    'splitter': ['best', 'random'],\n",
    "    'max_depth': [None, 10, 20, 30],\n",
    "    'min_samples_split': [2, 10, 20],\n",
    "    'min_samples_leaf': [1, 5, 10],\n",
    "    'max_features': [None, 'sqrt', 'log2'],\n",
    "}\n",
    "\n",
    "grid_search = GridSearchCV(estimator=dt_model, param_grid=param_grid, cv=5, scoring='accuracy')\n",
    "\n",
    "grid_search.fit(X_train_df_treating_data, y_train_df_treating_data)\n",
    "\n",
    "print(\"Melhores parâmetros:\", grid_search.best_params_)\n",
    "print(\"Melhor score:\", grid_search.best_score_)"
   ]
  },
  {
   "cell_type": "code",
   "execution_count": 72,
   "metadata": {},
   "outputs": [],
   "source": [
    "dt_model = DecisionTreeClassifier(criterion='gini', max_depth=10, max_features=None, min_samples_leaf=10, min_samples_split=10, splitter='random')"
   ]
  },
  {
   "cell_type": "code",
   "execution_count": null,
   "metadata": {},
   "outputs": [],
   "source": [
    "dt_model.fit(X_train_df_treating_data, y_train_df_treating_data)\n",
    "\n",
    "y_pred_df_treating_data_decision_tree = dt_model.predict(X_val_df_treating_data)\n",
    "\n",
    "print(classification_report(y_val_df_treating_data, y_pred_df_treating_data_decision_tree))"
   ]
  },
  {
   "cell_type": "code",
   "execution_count": null,
   "metadata": {},
   "outputs": [],
   "source": [
    "dt_model.fit(X_train_df_no_duration_outliers, y_train_df_no_duration_outliers)\n",
    "\n",
    "y_pred_df_no_duration_outliers_decision_tree = dt_model.predict(X_val_df_no_duration_outliers)\n",
    "\n",
    "print(classification_report(y_val_df_no_duration_outliers, y_pred_df_no_duration_outliers_decision_tree))"
   ]
  },
  {
   "cell_type": "code",
   "execution_count": null,
   "metadata": {},
   "outputs": [],
   "source": [
    "dt_model.fit(X_train_df_duration_log, y_train_df_duration_log)\n",
    "\n",
    "y_pred_df_duration_log_decision_tree = dt_model.predict(X_val_df_duration_log)\n",
    "\n",
    "print(classification_report(y_val_df_duration_log, y_pred_df_duration_log_decision_tree))"
   ]
  },
  {
   "cell_type": "code",
   "execution_count": null,
   "metadata": {},
   "outputs": [],
   "source": [
    "dt_model.fit(X_train_df_treating_data_scaled, y_train_df_treating_data)\n",
    "\n",
    "y_pred_df_treating_data_scaled_decision_tree = dt_model.predict(X_val_df_treating_data_scaled)\n",
    "\n",
    "print(classification_report(y_val_df_treating_data, y_pred_df_treating_data_scaled_decision_tree))"
   ]
  },
  {
   "cell_type": "markdown",
   "metadata": {},
   "source": [
    "Podemos ver que os resultados são bem iguais entre todos os testes. Vamos continuar com o resultado gerado pela base de dados 'df_treating_data_scaled' porque é o melhor entre todos. Para garantir que os resultados não são overfitting. Vamos testar no 'test' agora."
   ]
  },
  {
   "cell_type": "code",
   "execution_count": null,
   "metadata": {},
   "outputs": [],
   "source": [
    "dt_model.fit(X_train_df_treating_data_scaled, y_train_df_treating_data)\n",
    "\n",
    "y_pred_df_treating_data_scaled_decision_tree_test = dt_model.predict(X_test_df_treating_data_scaled)\n",
    "\n",
    "print(classification_report(y_test_df_treating_data, y_pred_df_treating_data_scaled_decision_tree_test))"
   ]
  },
  {
   "cell_type": "markdown",
   "metadata": {},
   "source": [
    "Como podemos ver, os resultados são bons e não estão em overfitting. Agora vamos seguir com os próximos testes."
   ]
  },
  {
   "cell_type": "markdown",
   "metadata": {},
   "source": [
    "## K-Nearest Neighbors (KNN)"
   ]
  },
  {
   "cell_type": "code",
   "execution_count": 78,
   "metadata": {},
   "outputs": [],
   "source": [
    "knn = KNeighborsClassifier()"
   ]
  },
  {
   "cell_type": "code",
   "execution_count": null,
   "metadata": {},
   "outputs": [],
   "source": [
    "param_grid = {\n",
    "    'n_neighbors': [3, 5, 7, 9, 11], \n",
    "    'weights': ['uniform', 'distance'],\n",
    "    'algorithm': ['auto', 'ball_tree', 'kd_tree', 'brute'],\n",
    "    'p': [1, 2]\n",
    "}\n",
    "\n",
    "grid_search = GridSearchCV(estimator=knn, param_grid=param_grid, cv=5, scoring='accuracy')\n",
    "\n",
    "grid_search.fit(X_train_df_treating_data_scaled, y_train_df_treating_data)\n",
    "\n",
    "print(\"Melhores parâmetros:\", grid_search.best_params_)\n",
    "print(\"Melhor acurácia:\", grid_search.best_score_)"
   ]
  },
  {
   "cell_type": "markdown",
   "metadata": {},
   "source": [
    "O código acima demorou 26 minutos para executar, e por isso, aqui está o output para que não seja preciso esperar o tempo todo: \n",
    "\n",
    "Melhores parâmetros: {'algorithm': 'auto', 'n_neighbors': 11, 'p': 1, 'weights': 'distance'}\n",
    "\n",
    "Melhor acurácia: 0.7890977443609023"
   ]
  },
  {
   "cell_type": "code",
   "execution_count": 80,
   "metadata": {},
   "outputs": [],
   "source": [
    "knn = KNeighborsClassifier(algorithm='auto', n_neighbors=11, p=1, weights='distance')"
   ]
  },
  {
   "cell_type": "code",
   "execution_count": null,
   "metadata": {},
   "outputs": [],
   "source": [
    "knn.fit(X_train_df_treating_data_scaled, y_train_df_treating_data)\n",
    "\n",
    "y_pred_df_treating_data_scaled_knn = knn.predict(X_val_df_treating_data_scaled)\n",
    "\n",
    "print(classification_report(y_val_df_treating_data, y_pred_df_treating_data_scaled_knn))"
   ]
  },
  {
   "cell_type": "code",
   "execution_count": null,
   "metadata": {},
   "outputs": [],
   "source": [
    "y_pred_df_treating_data_scaled_knn_test = knn.predict(X_test_df_treating_data_scaled)\n",
    "\n",
    "print(classification_report(y_test_df_treating_data, y_pred_df_treating_data_scaled_knn_test))"
   ]
  },
  {
   "cell_type": "markdown",
   "metadata": {},
   "source": [
    "Os resultados acima são excelentes e mostram não possuir overfitting. KNN se mostra um dos melhores algoritmos em nossos testes por enquanto.\n",
    "\n",
    "Vamos continuar nossos testes."
   ]
  },
  {
   "cell_type": "markdown",
   "metadata": {},
   "source": [
    "### Máquinas de Vetores de Suporte (SVM)"
   ]
  }
 ],
 "metadata": {
  "kernelspec": {
   "display_name": ".venv",
   "language": "python",
   "name": "python3"
  },
  "language_info": {
   "codemirror_mode": {
    "name": "ipython",
    "version": 3
   },
   "file_extension": ".py",
   "mimetype": "text/x-python",
   "name": "python",
   "nbconvert_exporter": "python",
   "pygments_lexer": "ipython3",
   "version": "3.12.3"
  }
 },
 "nbformat": 4,
 "nbformat_minor": 2
}
